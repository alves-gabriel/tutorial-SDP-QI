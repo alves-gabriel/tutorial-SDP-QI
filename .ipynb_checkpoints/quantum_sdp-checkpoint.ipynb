{
 "cells": [
  {
   "cell_type": "markdown",
   "id": "5689cf5b-c496-414c-87d7-f4e4ddc036ad",
   "metadata": {},
   "source": [
    "<h1>Semidefinite programming for Quantum Information</h1>"
   ]
  },
  {
   "cell_type": "markdown",
   "id": "11684986-a811-4f51-aa00-06af23bfe422",
   "metadata": {},
   "source": [
    "### ⚙️ Configuring the notebook"
   ]
  },
  {
   "cell_type": "markdown",
   "id": "b059f10b-b34c-4082-9ad3-c7dd7d2fbfec",
   "metadata": {},
   "source": [
    "**⚠️ Run the CSS cell below in order to properly format the notebook**"
   ]
  },
  {
   "cell_type": "code",
   "execution_count": 1,
   "id": "58c1617e-a982-4e9a-9370-9d4b10a3f3ca",
   "metadata": {
    "jupyter": {
     "source_hidden": true
    },
    "scene__Default Scene": true,
    "tags": [
     "ActiveScene"
    ]
   },
   "outputs": [
    {
     "data": {
      "text/html": [
       "<!-- Colors: https://encycolorpedia.com/-->\n",
       "<!-- Comments ommited due to a bug in Jupyter-->\n",
       "\n",
       "<style>\n",
       "\n",
       "    h1 { \n",
       "        font-size: 30px; \n",
       "        color: rgba(220, 20, 60, 1) !important;  \n",
       "    }\n",
       "\n",
       "    h2 {\n",
       "     font-size: 25px;\n",
       "     color: rgba(255, 140, 0, 1); /* Orange */\t\t \n",
       "    }\t \n",
       "\n",
       "    h3 {\n",
       "     font-size: 20px;\n",
       "     color:rgba(204, 85, 0, 1); /* Dark orange */\t\t \n",
       "    }\t \n",
       "        \n",
       "    td {\n",
       "      text-align: center;\n",
       "    }\n",
       "\n",
       "    div.highlight_red {    \n",
       "        background-color: rgba(179, 0, 0, .1);\n",
       "        background-opacity : 0.5;\n",
       "        }\n",
       "\n",
       "    div.highlight_red .title_box {\n",
       "        background-color: rgba(179, 0, 0, .6);\n",
       "        width: 100%;\n",
       "    }\n",
       "\n",
       "    div.highlight_green {    \n",
       "        background-color: rgba(\t19, 98, 7, .1);\n",
       "        background-opacity : 0.5;\n",
       "        }\n",
       "\n",
       "    div.highlight_green .title_box {\n",
       "        background-color: rgba(\t19, 130, 7, .6);\n",
       "        width: 100%;\n",
       "    }\n",
       "\n",
       "    div.highlight_turquoise {    \n",
       "        background-color: rgba(\t40, 154, 164, .1);\n",
       "        background-opacity : 0.5;\n",
       "        }\n",
       "\n",
       "    div.highlight_turquoise .title_box {\n",
       "        background-color: rgba(\t40, 154, 164, .6);\n",
       "        width: 100%;\n",
       "    }\n",
       "\n",
       "    div.highlight_purple {    \n",
       "        background-color: rgba(120, 81, 169, .1);\n",
       "        background-opacity : 0.5;\n",
       "        }\n",
       "\n",
       "    div.highlight_purple .title_box {\n",
       "        background-color: rgba(120, 81, 169, .6);\n",
       "        width: 100%;\n",
       "    }\n",
       "\n",
       "    div.highlight_blue {    \n",
       "        background-color: rgba(\t65, 105, 225, .1);\n",
       "        background-opacity : 0.5;\n",
       "    }\n",
       "\n",
       "    div.highlight_blue .title_box {\n",
       "        background-color: rgba(\t65, 105, 225, .6);\n",
       "        width: 100%;\n",
       "    }\n",
       "\n",
       "    .title{\n",
       "        text-indent: 1%;\n",
       "        padding: .25em;\n",
       "        font-weight: bold;\n",
       "        font-size: 18px;\n",
       "        color : white;\n",
       "    }\n",
       "\n",
       "    .content{\n",
       "        text-indent: 2%;\n",
       "        padding: 1em;\n",
       "        font-size: 14px;\n",
       "    }\n",
       "\n",
       "</style>\n"
      ],
      "text/plain": [
       "<IPython.core.display.HTML object>"
      ]
     },
     "metadata": {},
     "output_type": "display_data"
    }
   ],
   "source": [
    "%%html\n",
    "<!-- Colors: https://encycolorpedia.com/-->\n",
    "<!-- Comments ommited due to a bug in Jupyter-->\n",
    "\n",
    "<style>\n",
    "\n",
    "    h1 { \n",
    "        font-size: 30px; \n",
    "        color: rgba(220, 20, 60, 1) !important;  \n",
    "    }\n",
    "\n",
    "    h2 {\n",
    "     font-size: 25px;\n",
    "     color: rgba(255, 140, 0, 1); /* Orange */\t\t \n",
    "    }\t \n",
    "\n",
    "    h3 {\n",
    "     font-size: 20px;\n",
    "     color:rgba(204, 85, 0, 1); /* Dark orange */\t\t \n",
    "    }\t \n",
    "        \n",
    "    td {\n",
    "      text-align: center;\n",
    "    }\n",
    "\n",
    "    div.highlight_red {    \n",
    "        background-color: rgba(179, 0, 0, .1);\n",
    "        background-opacity : 0.5;\n",
    "        }\n",
    "\n",
    "    div.highlight_red .title_box {\n",
    "        background-color: rgba(179, 0, 0, .6);\n",
    "        width: 100%;\n",
    "    }\n",
    "\n",
    "    div.highlight_green {    \n",
    "        background-color: rgba(\t19, 98, 7, .1);\n",
    "        background-opacity : 0.5;\n",
    "        }\n",
    "\n",
    "    div.highlight_green .title_box {\n",
    "        background-color: rgba(\t19, 130, 7, .6);\n",
    "        width: 100%;\n",
    "    }\n",
    "\n",
    "    div.highlight_turquoise {    \n",
    "        background-color: rgba(\t40, 154, 164, .1);\n",
    "        background-opacity : 0.5;\n",
    "        }\n",
    "\n",
    "    div.highlight_turquoise .title_box {\n",
    "        background-color: rgba(\t40, 154, 164, .6);\n",
    "        width: 100%;\n",
    "    }\n",
    "\n",
    "    div.highlight_purple {    \n",
    "        background-color: rgba(120, 81, 169, .1);\n",
    "        background-opacity : 0.5;\n",
    "        }\n",
    "\n",
    "    div.highlight_purple .title_box {\n",
    "        background-color: rgba(120, 81, 169, .6);\n",
    "        width: 100%;\n",
    "    }\n",
    "\n",
    "    div.highlight_blue {    \n",
    "        background-color: rgba(\t65, 105, 225, .1);\n",
    "        background-opacity : 0.5;\n",
    "    }\n",
    "\n",
    "    div.highlight_blue .title_box {\n",
    "        background-color: rgba(\t65, 105, 225, .6);\n",
    "        width: 100%;\n",
    "    }\n",
    "\n",
    "    .title{\n",
    "        text-indent: 1%;\n",
    "        padding: .25em;\n",
    "        font-weight: bold;\n",
    "        font-size: 18px;\n",
    "        color : white;\n",
    "    }\n",
    "\n",
    "    .content{\n",
    "        text-indent: 2%;\n",
    "        padding: 1em;\n",
    "        font-size: 14px;\n",
    "    }\n",
    "\n",
    "</style>"
   ]
  },
  {
   "cell_type": "markdown",
   "id": "12959f42-b35c-4f91-a292-117a9a7bb3ce",
   "metadata": {},
   "source": [
    "<div class=\"highlight_red\">\n",
    "<div class=\"title_box\">\n",
    "    <div class=\"title\">\n",
    "        ⚠ Note\n",
    "    </div>\n",
    "</div>\n",
    "\n",
    "<div class=\"content\">\n",
    "    To properly run this notebook we will need to install the <a href=\"https://www.cvxpy.org\">cvxpy library</a> and a few other optional dependencies. Also be sure to install jupyter-lab/jupyter notebook in case you do not have it. Note that some packages might also require a slightly older version of other applications.\n",
    "</div>\n",
    "</div>"
   ]
  },
  {
   "cell_type": "markdown",
   "id": "cb696960-8713-4bbf-ae3d-e1249b8dab05",
   "metadata": {},
   "source": [
    "For convenience, we first create an anaconda environment ```sdp_env```:\n",
    "\n",
    "```\n",
    "conda create -n sdp_env\n",
    "conda activate sdp_env\n",
    "```\n",
    "\n",
    "Where we install the packages:\n",
    "\n",
    "```\n",
    "conda install -c conda-forge cvxpy matplotlib\n",
    "```\n",
    "\n",
    "If you already have a jupyter-lab/notebook installation it is then helpful to run the python Kernel <a href=\"\">inside this environment</a>. You can then choose ```sdp_env_kernel``` among the Python3 Kernels in Jupyter-lab.\n",
    "\n",
    "```\n",
    "conda install ipykernel\n",
    "ipython kernel install --user --name=sdp_env_kernel\n",
    "```\n",
    "\n",
    "Finally, if you want to run the final examples it is also necessary to install [qutip](https://qutip.org/docs/latest/installation.html) for a few quantum imformation operations. Note that this might also require you to [downgrade scipy](https://stackoverflow.com/questions/76560698/python-3-10-qutip-attributeerror-cant-set-attribute-format) as of Jan. 2024.\n",
    "\n",
    "```\n",
    "conda install -c conda-forge qutip scipy==1.10.1    \n",
    "```\n",
    "\n",
    "If you plan on using [quspin](https://quspin.github.io/QuSpin/) instead for many-body calculations it might also be necessary to downgrade to Python 3.10 in order to keep everything compatible."
   ]
  },
  {
   "cell_type": "code",
   "execution_count": 2,
   "id": "c24752c2-f48e-4f1d-8ca5-da99e45cae91",
   "metadata": {
    "jupyter": {
     "source_hidden": true
    },
    "scene__Default Scene": true,
    "tags": [
     "ActiveScene"
    ]
   },
   "outputs": [],
   "source": [
    "# PACKAGES\n",
    "from IPython.display import HTML\n",
    "import cvxpy as cp\n",
    "import numpy as np\n",
    "import matplotlib.pyplot as plt\n",
    "import matplotlib.colors\n",
    "import matplotlib.cm as cm\n",
    "\n",
    "# NUMPY CONFIGURATION\n",
    "np.set_printoptions(formatter={'float': lambda x: \"{0:0.2f}\".format(x)})\n",
    "\n",
    "# OPTIONAL MATPLOTLIB CONFIGURATION\n",
    "# LaTeX packages. Comment if LaTeX is unavailable\n",
    "plt.rc('text.latex', preamble=r'\\usepackage{amsmath}')\n",
    "\n",
    "# LaTeX fonts\n",
    "plt.rcParams.update({\n",
    "    \"text.usetex\": True,\n",
    "    \"font.family\": \"Helvetica\"\n",
    "})\n",
    "\n",
    "# Changes default size for label and title\n",
    "plt.rcParams['axes.labelsize'] = 22\n",
    "plt.rcParams['axes.titlesize'] = 24\n",
    "\n",
    "# Size for ticks and legends\n",
    "plt.rcParams['xtick.labelsize'] = 22\n",
    "plt.rcParams['ytick.labelsize'] = 22\n",
    "plt.rcParams['legend.fontsize'] = 18\n",
    "plt.rcParams['legend.title_fontsize'] = 20\n",
    "\n",
    "matplotlib.rcParams['axes.linewidth'] = 1.0"
   ]
  },
  {
   "cell_type": "markdown",
   "id": "2422d3c2-57d4-42c1-a678-f5bc1f5c5b41",
   "metadata": {},
   "source": [
    "## Introduction "
   ]
  },
  {
   "cell_type": "markdown",
   "id": "6c110dde-eb8d-47de-9c1b-a72b52839e10",
   "metadata": {},
   "source": [
    "### Definitions"
   ]
  },
  {
   "attachments": {},
   "cell_type": "markdown",
   "id": "42df6076-ac07-42f0-b026-9f2e286ef388",
   "metadata": {},
   "source": [
    "A very natural type of mathematical problem arises when one tries to optimize a quantity under a set of constraints for the underlying variables. This is ubiquitous in many fields, and as we will see, also fits like a glove for many problems in quantum information science. More specifically, the ingredients we have are:\n",
    "\n",
    " - A _linear_ objective function $\\bf{c} \\cdot \\bf{x}$ which we want to either maximize or minimize. Here ${\\bf{x}} = (x_1, ..., x_n)$ corresponds to the _variables_ of the problem, which we want to solve for. We will use the very clever notation from [1] and normally depict <span style=\"color:orange\">the variables in  orange</span>. Similarly, ${\\bf{c}} = (c_1, ..., c_n)$ is just a vector of constants which set the objective function.\n",
    " - A matrix $\\bf{A}$ and a vector $\\bf{b}$ which set the inequalities/constraints\n",
    " - A positiveness condition for the variables\n",
    "\n",
    "<div class=\"highlight_blue\">\n",
    "<div class=\"title_box\">\n",
    "    <div class=\"title\">\n",
    "        ☞ Linear Problem\n",
    "    </div>\n",
    "</div>\n",
    "<div class=\"content\">\n",
    "In its so called standard form, the LP is a <b>convex</b> problem which can be cast into the following form:\n",
    "\n",
    "$$\n",
    "\\begin{split}\n",
    "    & \\mathrm{Maximize \\quad}     & & \\bf{c} \\cdot \\bf{\\color{orange}{x}} \\\\\n",
    "    & \\mathrm{subject \\ to \\quad} & & \\bf{A} \\cdot \\bf{\\color{orange}{x}} \\leq \\bf{b}\\\\\n",
    "                                & & & \\bf{\\color{orange}{x}} \\geq 0\n",
    "\\end{split}\n",
    "$$\n",
    "</div>\n",
    "</div>\n",
    "\n",
    "Intuitively, the constraints above define a [polytope](!https://en.wikipedia.org/wiki/Convex_polytope). In other words, all the allowed $\\bf{x}$ respecting these constraints live inside this convex $n$-dimensional euclidean object. In simple terms, think of a convex convex polygon in 2 dimensions and a convex polyhedron in 3 dimensions. \n",
    "\n",
    "<center><img src=\"images/polyhedron.png\"/></center>\n",
    "\n",
    "What we want to do in this problem is thus find the point within this set which optimizes the objective function. Surprisingly, there is a very geometrical solution to this algebraic problem. To see how this happens, we can begin with a very silly example. Consider the following linear problem:\n",
    "\n",
    "$$\n",
    "\\begin{array}{rl}\n",
    "{\\displaystyle\\max} & 3{\\color{orange} x_1}+4{\\color{orange} x_2}  \\\\\n",
    "\\text{subject to} & 0 \\leq {\\color{orange} x_1} \\leq 5\\\\\n",
    "& 0 \\leq {\\color{orange} x_2} \\leq 4\\\\\n",
    "& \\frac{1}{2}{\\color{orange} x_1} + {\\color{orange} x_2} \\leq 5\\\\\n",
    "& 2{\\color{orange} x_1} + {\\color{orange} x_2} \\leq 11\\\\\n",
    "\\end{array}\n",
    "$$\n",
    "\n",
    "Here we have just two variables, given by ${\\color{orange} x_1}$ and ${\\color{orange} x_2}$, so everything lies on the cartesian plane. The **objective function** here is $3{\\color{orange} x_1}+4{\\color{orange} x_2}$, which is the quantity we wish to maximize. So, how would one go about solving this problem?\n",
    "\n",
    "The first thing which would be nice to see, is why excatly we get this type of convex shape mentioned before. These arise due to the **constraints** of the problem. Everytime we add a new inequality we are cutting the $n$-dimensional space with a hyperplane which further restricts the region of feasible points. In the figure below we illustrate how the polygon corresponding to the feasible set of the problem above can be constructed. The first two inequalities basically define a rectangle in the cartesian plane (left). Afterwards, if we introduce the last two equalities we will obtain two lines cutting through this rectangle, trimming some of its edges and further restricting the feasible set (center). When all these inequalities are considered we obtain the region shown on the rightmost panel. Our objective is to find the pair $(x_1, x_2)$ **within** this orange region which maximizes the objective function."
   ]
  },
  {
   "cell_type": "markdown",
   "id": "1d0f58c9-1a51-4ec1-9b39-b02b1e7bde5a",
   "metadata": {},
   "source": [
    "<div style=\"display: flex; flex-direction: row;\">\n",
    "    <img width = 33% src=\"images/lp_draw_1.svg\"/>\n",
    "    <img width = 33% src=\"images/lp_draw_2.svg\"/>\n",
    "    <img width = 33% src=\"images/lp_draw_3.svg\"/>\n",
    "</div>"
   ]
  },
  {
   "cell_type": "markdown",
   "id": "85f5a73d-23df-4d5f-b80b-16bbcc3c1845",
   "metadata": {},
   "source": [
    "Now the trick is to notice that the objective function, which is of the form $\\bf{c} \\cdot \\bf{x}$, defines a family of hyperplanes if we write it as $\\bf{c} \\cdot \\bf{x} = \\alpha$, where $\\alpha$ is a scalar. In our example, we have ${\\bf c} = (3, 4)$, thus we have have a family of lines satisfying $3x_1+4x_2 = \\alpha$. Our objective is simply to find the line which maximizes this expression, i.e. the objective function. The animation below illustrates this idea geometrically, showing the different lines as we increase the free parameter $\\alpha$ and how they cross the feasible region:"
   ]
  },
  {
   "cell_type": "code",
   "execution_count": 3,
   "id": "db3f2625-d421-4ff9-a4fc-e531bea478a5",
   "metadata": {
    "scene__Default Scene": true,
    "tags": [
     "ActiveScene"
    ]
   },
   "outputs": [
    {
     "data": {
      "text/html": [
       "\n",
       "<center>\n",
       "<video alt=\"test\" controls>\n",
       "    <source src=\"images/lp_gif.mp4\" type=\"video/mp4\">\n",
       "</video>\n",
       "</center>\n"
      ],
      "text/plain": [
       "<IPython.core.display.HTML object>"
      ]
     },
     "metadata": {},
     "output_type": "display_data"
    }
   ],
   "source": [
    "%%HTML\n",
    "\n",
    "<center>\n",
    "<video alt=\"test\" controls>\n",
    "    <source src=\"images/lp_gif.mp4\" type=\"video/mp4\">\n",
    "</video>\n",
    "</center>"
   ]
  },
  {
   "cell_type": "markdown",
   "id": "ebbfff04-f8e6-48da-a6ff-623dadc7c032",
   "metadata": {},
   "source": [
    "This is very helpful in bringing home some intuition, however this picture in itself does not seem completely systematic. If we are interested in a more algorithmic approach we can resort to what is likely the most famous algorithm for linear programming, the [simplex algorithm](https://en.wikipedia.org/wiki/Simplex_algorithm). This is a greedy algorithm which, in analogy to the figure shown above, \"explores\" the edges and vertices of a polytope in the \"direction\" of the objective function, eventually finding the vertex which maximizes the objetive function.\n",
    "\n",
    "<center><img src=\"images/simplex_landmarks.png\"/></center>\n",
    "\n",
    "We omit much of the details here, but trick for solving this problem is using something called <span style=\"color:green;\">slack variables</span>. These are \"surplus\" variables which allows to reexpress the inequalities for the variables ${\\color{orange} \\bf{x}}$ as _equalities_. The trade-off is that now we have a larger number of constraints and variables to keep track of. In our current example, we could reexpress the problem as:\n",
    "\n",
    "$$\n",
    "\\begin{array}{rl}\n",
    "{\\displaystyle\\max} & 3{\\color{orange} x_1}+4{\\color{orange} x_2}  \\\\\n",
    "\\text{subject to} & {\\color{orange} x_1}                 & = 5 - {\\color{green} s_1}  \\\\\n",
    "& {\\color{orange} x_2}                                   & = 4 - {\\color{green} s_2}\\\\\n",
    "& \\frac{1}{2}{\\color{orange} x_1} + {\\color{orange} x_2} & = 5 - {\\color{green} s_3}\\\\\n",
    "& 2{\\color{orange} x_1} + {\\color{orange} x_2}           & = 11 - {\\color{green} s_4}\\\\\n",
    "& {\\color{orange} x_1}, {\\color{orange} x_2}, {\\color{green} s_1}, {\\color{green} s_2}, {\\color{green} s_3}, {\\color{green} s_4} \\geq 0\n",
    "\\end{array}.\n",
    "$$\n",
    "\n",
    "Here we have introduced ${\\color{green} s_1, \\dots, s_4}$ as the <span style=\"color:green;\">slack variables</span>. Note that as long as the slack variables are positive, the former constraints are also respected. This is useful because the equalities are now much more convenient to manipulate. The algorithm uses some pivoting rules, in the same spirit of the proccess of Gaussian elimination, to maximize the objetive function. While we omit the details here, implementations for this algorithm can be readily found in any reference. For instance, this <a href=\"https://en.wikipedia.org/wiki/Simplex_algorithm#:~:text=solution.%5B17%5D-,Simplex%20tableau,-%5Bedit%5D\">Wikipedia page</a> shows how one can write down the so called _simples tableau_ to solve this problem. \n",
    "\n",
    "- Finally, [this YouTube video](https://www.youtube.com/watch?v=E72DWgKP_1Y) by _Tom S_ is probably one of the best resources to figure out how this works. It is a very pedagogical introduction with some great visuals to top it off."
   ]
  },
  {
   "cell_type": "markdown",
   "id": "84a2fb6f-ae9d-4917-ae9f-5ed7ffa53d15",
   "metadata": {},
   "source": [
    "### Basic Code Examples"
   ]
  },
  {
   "cell_type": "markdown",
   "id": "cea358c7-eaba-40bb-ba7b-94d22b140691",
   "metadata": {},
   "source": [
    "Now, we refer back to our previous example. We will see how the library ```cvxpy``` can easily be used to tackle linear programming problems. The code snippet below shows the basic implematation of an objective function and the constraints. "
   ]
  },
  {
   "cell_type": "markdown",
   "id": "d6d0727e-d213-40d6-a1c4-5d79c9c666aa",
   "metadata": {},
   "source": [
    "#### ⦿ Example 1 | Basic linear program"
   ]
  },
  {
   "cell_type": "code",
   "execution_count": 4,
   "id": "45f16115-1b5b-4001-b6af-f8c0866ad022",
   "metadata": {
    "scene__Default Scene": true,
    "tags": [
     "ActiveScene"
    ]
   },
   "outputs": [],
   "source": [
    "# Variables\n",
    "x1 = cp.Variable()\n",
    "x2 = cp.Variable()\n",
    "\n",
    "# Objective function\n",
    "objective = cp.Maximize(4*x1 + 3*x2)\n",
    "\n",
    "# Constraints\n",
    "constraints = [x1>=0, x1<=5\n",
    "               , x2>=0, x2<=4\n",
    "               , x2 <= 5 - x1/2\n",
    "               , x2 <= 11 - 2*x1]\n",
    "\n",
    "# Solution\n",
    "prob = cp.Problem(objective, constraints)"
   ]
  },
  {
   "cell_type": "markdown",
   "id": "67df0ea6-6e60-45fd-a2a7-3b03ea6a0082",
   "metadata": {},
   "source": [
    "This yields:"
   ]
  },
  {
   "cell_type": "code",
   "execution_count": 11,
   "id": "92627af4-30e7-45f9-a32e-0d8db7f7dace",
   "metadata": {},
   "outputs": [
    {
     "name": "stdout",
     "output_type": "stream",
     "text": [
      "RESULT:\n",
      "\n",
      "max 4 * x1 + 3 * x2 = 25.00, with x1 = 4.00 and x2 = 3.00\n"
     ]
    }
   ],
   "source": [
    "result = prob.solve()\n",
    "print('RESULT:\\n\\nmax 4 * x1 + 3 * x2 = %0.2f, with x1 = %0.2f and x2 = %0.2f' % (result, x1.value, x2.value))"
   ]
  },
  {
   "cell_type": "code",
   "execution_count": 12,
   "id": "9c877c9a-6f10-45f0-98f7-dac23adffe8f",
   "metadata": {},
   "outputs": [
    {
     "name": "stdout",
     "output_type": "stream",
     "text": [
      "maximize 4.0 @ var71 + 3.0 @ var72\n",
      "subject to 0.0 <= var71\n",
      "           var71 <= 5.0\n",
      "           0.0 <= var72\n",
      "           var72 <= 4.0\n",
      "           var72 <= 5.0 + -var71 / 2.0\n",
      "           var72 <= 11.0 + -2.0 @ var71\n"
     ]
    }
   ],
   "source": [
    "print(prob)"
   ]
  },
  {
   "cell_type": "code",
   "execution_count": 13,
   "id": "9061ec94-c3e1-4636-8e62-186471a0cca6",
   "metadata": {},
   "outputs": [
    {
     "name": "stdout",
     "output_type": "stream",
     "text": [
      "optimal\n"
     ]
    }
   ],
   "source": [
    "print(prob.status)"
   ]
  },
  {
   "cell_type": "markdown",
   "id": "5fca5d7f-f617-4660-a6fd-f56e342dfc13",
   "metadata": {},
   "source": [
    "#### ⦿ Example 2 | Correlation Matrix"
   ]
  },
  {
   "cell_type": "markdown",
   "id": "29aa5e6d-d420-4845-b306-652d9b1430c3",
   "metadata": {},
   "source": [
    "Consider the correlation matrix given by [4]:\n",
    "\n",
    "$$\n",
    "\\gamma :=\n",
    "\\begin{pmatrix}\n",
    "  1 & {\\color{orange}x_{12}} & x_{13} \\\\\n",
    "  {\\color{orange}x_{12}} & 1 & {\\color{orange}x_{23}} \\\\\n",
    "  x_{13} & {\\color{orange}x_{23}} & 1\n",
    "\\end{pmatrix}.\n",
    "$$\n",
    "\n",
    "Our objective in this example is to either maximize or minimize one of these entries, such as e.g. $x_{13}$, while respecting the semipositive definiteness of $\\gamma$ and any further constraints which might be place upon the other entries. For instance, consider the problem:\n",
    "\n",
    "$$\n",
    "\\begin{array}{rl}\n",
    "{\\displaystyle\\min/\\max} & x_{13} \\\\\n",
    "\\text{subject to} & -0.2 \\leq {\\color{orange}x_{12}} \\leq -0.1\\\\\n",
    "& 0.4 \\leq {\\color{orange}x_{23}} \\leq 0.5\\\\\n",
    "& \\gamma \\geq 0\n",
    "\\end{array}\n",
    "$$\n",
    "\n",
    "We can implement this with ```cvxpy``` as follows:"
   ]
  },
  {
   "cell_type": "code",
   "execution_count": 268,
   "id": "495f9153-911c-4c95-83f6-756bacf4903b",
   "metadata": {},
   "outputs": [],
   "source": [
    "# Symm. correlation matrix and its entries. We must make it symmetric, see: https://stackoverflow.com/questions/56414270/implement-lmi-constraint-with-cvxpy\n",
    "n = 3\n",
    "corr_mat = cp.Variable((n,n), symmetric=True)\n",
    "x12 = corr_mat[0, 1]\n",
    "x13 = corr_mat[0, 2]\n",
    "x23 = corr_mat[1, 2]\n",
    "\n",
    "# Objective and constraints\n",
    "objective_max, objective_min = cp.Maximize(x13), cp.Minimize(x13)\n",
    "\n",
    "constraints = [corr_mat >> 0]                          # Semi-positive definiteness\n",
    "constraints += [corr_mat[i, i] == 1 for i in range(n)] # Diagonal\n",
    "constraints += [ x12 <= -0.1                           # Correlations\n",
    "               , x12 >= -0.2\n",
    "               , x23 >= 0.4\n",
    "               , x23 <= 0.5\n",
    "              ]\n",
    "\n",
    "# Solution\n",
    "prob_max, prob_min = cp.Problem(objective_max, constraints), cp.Problem(objective_min, constraints)"
   ]
  },
  {
   "cell_type": "markdown",
   "id": "cd0e4ce4-429f-4f6e-8c43-18ffcfe1684a",
   "metadata": {},
   "source": [
    "This yields:"
   ]
  },
  {
   "cell_type": "code",
   "execution_count": 19,
   "id": "d2a80372-030f-42e0-9563-16e040003b08",
   "metadata": {},
   "outputs": [
    {
     "name": "stdout",
     "output_type": "stream",
     "text": [
      "RESULTS\n",
      "max x_{13}:  -0.9779989594128443 \n",
      "min x_{13}:  0.8719220302944627\n"
     ]
    }
   ],
   "source": [
    "# The optimal objective value is returned by `prob.solve()`.\n",
    "result_max, result_min = prob_max.solve(), prob_min.solve()\n",
    "print('RESULTS\\nmax x_{13}: ', result_min, '\\nmin x_{13}: ', result_max)"
   ]
  },
  {
   "cell_type": "markdown",
   "id": "fd0c598a-4f0c-40d8-8fdf-f38f44b465af",
   "metadata": {},
   "source": [
    "<div class=\"highlight_green\">\n",
    "<div class=\"title_box\">\n",
    "    <div class=\"title\">\n",
    "        ❐ Remarks\n",
    "    </div>\n",
    "</div>\n",
    "\n",
    "\n",
    "<div class=\"content\">\n",
    "<ul>\n",
    "<li>Variables should be treated as objects of the type <code>cp.Variable()</code>. These can be multi-dimensional. Symmetries and other properties are encoded here as attributes. Note how we had to set the correlation matrix above as a cvxpy variable with the attribute <code>symmetric=True</code>. A general list of attributes and other advanced features can be found <a href=https://www.cvxpy.org/tutorial/advanced/index.html#attributes>here.</a></li>\n",
    "    \n",
    "<li>Objective functions and constraints are constructed on top of these variables. Constraints should be fed to the problem as a list of (in)equalities.</li>\n",
    "\n",
    "<li> A first introduction on the functionalities of the library can be found <a href=https://www.cvxpy.org/tutorial/intro/index.html>here.</a></li>\n",
    "</ul>\n",
    "</div>\n",
    "</div>"
   ]
  },
  {
   "cell_type": "markdown",
   "id": "7d1649a4-dee0-4a38-95b9-040f6dd705c9",
   "metadata": {},
   "source": [
    "### Semidefinite Programming"
   ]
  },
  {
   "cell_type": "markdown",
   "id": "1decfb88-7f20-42ff-ba6f-30b170bd2d23",
   "metadata": {},
   "source": [
    "In analogy to the basic linear program from the first section, we can also define the following type of problem:\n",
    "\n",
    "<div class=\"highlight_blue\">\n",
    "<div class=\"title_box\">\n",
    "    <div class=\"title\">\n",
    "        ☞ SDP\n",
    "    </div>\n",
    "</div>\n",
    "<div class=\"content\">\n",
    "In its so called standard form, it is a <b>convex</b> problem which can be cast into the following form:\n",
    "\n",
    "$$\n",
    "\\begin{split}\n",
    "    & \\mathrm{Maximize \\quad}     & & \\mathrm{tr}{({\\bf C} \\bf{\\color{orange}{X}})} \\\\\n",
    "    & \\mathrm{subject \\ to \\quad} & & \\langle {\\bf A}_i, {\\bf{\\color{orange}{X}}} \\rangle \\leq {\\bf b}_i, \\quad i=1,\\dots,m\\\\\n",
    "                                & & & \\bf{\\color{orange}{X}} \\geq 0\n",
    "\\end{split}\n",
    "$$\n",
    "</div>\n",
    "</div>\n",
    "\n",
    "As we will see, this type of formulation is also ubiquitous and very useful for many problems in quantum information. In this new formulation, the <span style=\"color:orange;\">variables</span> are now **operators**. In the linear program we required that the variables lie on the positive quadrant. What happens here instead is that with the constraint $\\bf{\\color{orange}{X}} \\geq 0$ we are forcing the variables to live in a <a href=\"https://inst.eecs.berkeley.edu/~ee127/sp21/livebook/def_sdp.html\">semidefinite cone</a>, or equivalently, that its eigenvalues are positive. Besides, we make two remarks:\n",
    "\n",
    "- $\\langle \\bf{A}, \\bf{B} \\rangle$ should be understood as the Hilbert-Schmidt/Frobenius inner product $\\langle \\bf{A}, \\bf{B} \\rangle := \\mathrm{tr}{(\\bf{A}^\\dagger \\bf{B})}$\n",
    "    \n",
    "- Inequalities such as ${\\bf A} \\geq 0$ should be understood as positive semidefiniteness"
   ]
  },
  {
   "cell_type": "markdown",
   "id": "77cfbe07-ecf5-4cc1-86b4-d168c4179ef5",
   "metadata": {},
   "source": [
    "### The Dual Problem"
   ]
  },
  {
   "cell_type": "markdown",
   "id": "8b9a7074-4b47-4688-8860-0cfe3f0d56ee",
   "metadata": {},
   "source": [
    "The form we saw above, both for the linear and for the SDP problem are the so called _primal_ forms. One can define a corresponding _minimization_ problem which has slightly different constraints and sets an _upper bound_ to the solution of the primal problem. We call this the <a href=\"https://en.wikipedia.org/wiki/Dual_linear_program#cite_note-gm06-1\">dual</a> problem. However, for most of the easier applications we actually have a property called _strong duality_, which states that these two solutions actually _coincide_."
   ]
  },
  {
   "cell_type": "markdown",
   "id": "1276eec2-e98e-455b-ab41-ca88e1529710",
   "metadata": {},
   "source": [
    "<div class=\"highlight_blue\">\n",
    "<div class=\"title_box\">\n",
    "    <div class=\"title\">\n",
    "        ☞ The Dual SPD\n",
    "    </div>\n",
    "</div>\n",
    "<div class=\"content\">\n",
    "The dual problem can be cast in the following form:\n",
    "\n",
    "$$\n",
    "\\begin{split}\n",
    "    & \\mathrm{Minimize \\quad}     & & \\sum_{i=1}^m {\\bf b}_i \\bf{\\color{red}{y}_i} \\\\\n",
    "    & \\mathrm{subject \\ to \\quad} & & \\sum_{i=1}^m {\\bf A}_i \\bf{\\color{red}{y}_i} \\geq {\\bf C} \\\\\n",
    "\\end{split}\n",
    "$$\n",
    "</div>\n",
    "</div>\n"
   ]
  },
  {
   "cell_type": "markdown",
   "id": "8e7ace2c-171f-48bd-badd-da462b1e89e8",
   "metadata": {},
   "source": [
    "Note how the number of <span style=\"color:red;\">dual variables</span> corresponds to the number $m$ of constraints in the primal problem. Surprinsigly, what this generally means is that the dimensionality of these two problems will be different. Normally one derives the dual by using Lagrange multipliers [12-14]."
   ]
  },
  {
   "cell_type": "markdown",
   "id": "a8897a33-27e4-44c7-9317-9584a60f38db",
   "metadata": {},
   "source": [
    "#### ⦿ Example 3 | Eigenvalue computation"
   ]
  },
  {
   "cell_type": "markdown",
   "id": "74cb3500-5041-441f-9e48-9688dc429ecd",
   "metadata": {},
   "source": [
    "Computing the maximum (or minimum) eigenvalue of a Hermitian matrix ${\\bf M}$ is a task which provides a very simple example of how we can set a primal problem and its dual. \n",
    "This actually comes from the notion of <a href=\"https://en.wikipedia.org/wiki/Rayleigh_quotient\">Raylegh coefficients</a>.\n",
    "More concretely, the primal problem for the _maximum_ eigenvalue can be cast in the form:\n",
    "\n",
    "$$\n",
    "\\begin{split}\n",
    "    & \\mathrm{Maximize \\quad}     & & \\mathrm{tr}{({\\bf M} \\bf{\\color{orange}{X}})} \\\\\n",
    "    & \\mathrm{subject \\ to \\quad} & & \\langle {\\bf I}, {\\bf{\\color{orange}{X}}} \\rangle = 1\\\\\n",
    "                                & & & \\bf{\\color{orange}{X}} \\geq 0\n",
    "\\end{split}\n",
    "$$"
   ]
  },
  {
   "cell_type": "code",
   "execution_count": 465,
   "id": "4ffc0766-0909-47f6-b50e-a70d913e5b98",
   "metadata": {},
   "outputs": [
    {
     "name": "stdout",
     "output_type": "stream",
     "text": [
      "PRIMAL: The max. eigenvalue value is 2.24\n"
     ]
    }
   ],
   "source": [
    "# Variables\n",
    "n = 3\n",
    "\n",
    "# Flag complex true!\n",
    "X = cp.Variable((n,n), complex=True)\n",
    "M = np.random.randn(n, n) + 1j*np.random.randn(n, n)\n",
    "M = (M+M.T.conjugate())/2\n",
    "\n",
    "# Objective function\n",
    "objective = cp.Maximize(cp.trace(cp.real(M @ X)))\n",
    "\n",
    "# Constraints\n",
    "constraints = [cp.trace(X) == 1, X >> 0]\n",
    "\n",
    "# Solution\n",
    "prob = cp.Problem(objective, constraints)\n",
    "prob.solve()\n",
    "\n",
    "print(\"PRIMAL: The max. eigenvalue value is %0.2f\" % prob.value)"
   ]
  },
  {
   "cell_type": "markdown",
   "id": "68788a3a-cefd-4ede-9aa0-a345f192f02d",
   "metadata": {},
   "source": [
    "The dual problem is given by,\n",
    "\n",
    "$$\n",
    "\\begin{split}\n",
    "    & \\mathrm{Minimize \\quad}     & & {\\color{red} y}\\\\\n",
    "    & \\mathrm{subject \\ to \\quad} & & {\\color{red} y} {\\bf I} - {\\bf M} \\geq 0 \\\\\n",
    "\\end{split}\n",
    "$$"
   ]
  },
  {
   "cell_type": "code",
   "execution_count": 466,
   "id": "3b741dec-04b3-40d7-a667-7e9b936e6e29",
   "metadata": {},
   "outputs": [
    {
     "name": "stdout",
     "output_type": "stream",
     "text": [
      "DUAL: The max. eigenvalue value is 2.24\n"
     ]
    }
   ],
   "source": [
    "# Variables\n",
    "y = cp.Variable()\n",
    "\n",
    "# Objective function\n",
    "objective_dual = cp.Minimize(y)\n",
    "\n",
    "# Constraints\n",
    "constraints_dual = [y*np.eye(n) - M >> 0]\n",
    "\n",
    "# Solution\n",
    "prob_dual = cp.Problem(objective_dual, constraints_dual)\n",
    "prob_dual.solve()\n",
    "\n",
    "print(\"DUAL: The max. eigenvalue value is %0.2f\" % prob_dual.value)"
   ]
  },
  {
   "cell_type": "markdown",
   "id": "d3be756b-c54a-4ed5-a539-1bfc7bf0f9f5",
   "metadata": {},
   "source": [
    "As a sanity check:"
   ]
  },
  {
   "cell_type": "code",
   "execution_count": 468,
   "id": "c93c085d-4e00-4fca-a9b6-bfe699996835",
   "metadata": {},
   "outputs": [
    {
     "name": "stdout",
     "output_type": "stream",
     "text": [
      "np.eigval(M) = 2.24\n"
     ]
    }
   ],
   "source": [
    "print(\"np.eigval(M) = %0.2f\" % np.max(np.linalg.eig(M)[0]).real)"
   ]
  },
  {
   "cell_type": "markdown",
   "id": "d0aa0d3e-365a-458b-af19-edbd12fdae50",
   "metadata": {},
   "source": [
    "As a side note, also notice how the constraint $\\langle {\\bf I}, {\\bf{\\color{orange}{X}}} \\rangle = 1$ corresponds to $\\mathrm{Tr\\ } \\bf{\\color{orange}{X}} = 1$, so this problem is analogous to the problem of finding the GS of a Hamiltonian!"
   ]
  },
  {
   "cell_type": "markdown",
   "id": "df968b36-ff81-4c1c-91a8-75c8a159e1fa",
   "metadata": {},
   "source": [
    "<div class=\"highlight_red\">\n",
    "<div class=\"title_box\">\n",
    "    <div class=\"title\">\n",
    "        ⚠ Note\n",
    "    </div>\n",
    "</div>\n",
    "\n",
    "<div class=\"content\">\n",
    "\n",
    "- When dealing with complex-valued operators, it is often necessary to flag the <code>cvxpy</code> variables as <code>cp.Variable(..., complex=True)</code>, otherwise we get unfeasible or outright wrong solutions\n",
    "\n",
    "- Similarly, sometimes it is also necessary to tell <code>cvxpy</code> beforehand that a given expression is real with <code>cp.real(...)</code>\n",
    "</div>\n",
    "</div>"
   ]
  },
  {
   "cell_type": "markdown",
   "id": "e25b2045-c25f-4c88-8107-ad399087f597",
   "metadata": {},
   "source": [
    "## Basic uses in quantum information "
   ]
  },
  {
   "cell_type": "markdown",
   "id": "b4775116-f88e-4481-85a6-8312350d81c9",
   "metadata": {},
   "source": [
    "### Quantum State Discrimination"
   ]
  },
  {
   "cell_type": "markdown",
   "id": "daacdc6d-c020-4ddc-b06b-ce095890bb5a",
   "metadata": {},
   "source": [
    "We show in this example how these SDP methods fit like a glove for the problem of quantum state descrimination (QSD). The basic setup for a simplified version of QSD works as follows:\n",
    "\n",
    "<div class=\"highlight_blue\">\n",
    "<div class=\"title_box\">\n",
    "    <div class=\"title\">\n",
    "        ☞ Two-state QSD\n",
    "    </div>\n",
    "</div>\n",
    "<div class=\"content\">\n",
    "\n",
    "Consider a game with two players, Alice and Bob. \n",
    "\n",
    "<ul>\n",
    "    <li>Alice prepares a (possibly mixed) quantum state $\\rho_i$ with probability $p_i$, with $i = 0, 1$. </li>\n",
    "    <li>Both Alice and Bob agree on the set of states $\\{\\rho_0, \\rho_1\\}$, as well as the corresponding probabilities, <b>beforehand</b>. This guarantees that there is no classical ignorance regarding the protocol.</li>\n",
    "    <center><img width=25% src=\"images/state_discrimination1.svg\"/></center>\n",
    "    <li>Bobs receive an unkown state from the set $\\{\\rho_0, \\rho_1\\}$. His task is to perform a measurement on the incoming state, devising an optimal strategy to correctly guess it.</li>\n",
    "    <li>Bob constructs a set of two POVMs $\\{M_0, M_1\\}$ which will help him guess the incoming state. Bob then associates a POVM $M_k$ with a given state $\\rho_k$. That is, if Bob measures $M_k$ then he decides that the state sent by Alice is $\\rho_k$.</li>\n",
    "    <li>These POVMs are constructed in a way such that the probability of correctly guessing the state is maximized.</li>\n",
    "    <center><img width=65% src=\"images/state_discrimination2.svg\"/></center>\n",
    "</ul>\n",
    "</div>\n",
    "</div>"
   ]
  },
  {
   "cell_type": "markdown",
   "id": "56dcd149-f248-44c2-9b1d-132f662ef8e4",
   "metadata": {},
   "source": [
    "Now, a few things come into play here. Unless the states $\\rho_i$ are orthogonal, there is no protocol which will allow us to determine the incoming state free of errors due to the intrinsic quantum probabilities. For that reason, one should first choose a figure of merit which evaluates how good a given strategy is. In our example we specifically chose that to be the probability of correctly guessing the incoming state. Once that is decided, it is necessary to properly define the protocol, i.e. choose the POVMs.\n",
    "\n",
    "Unfortunately, this problem is, in general, very hard to solve analytically. One of the few exceptions is precisely when one has to discriminate between only two states. For $n \\geq 3$ things get much more complicated. Finally, also note that these states need not to be qubits. One can have larger dimensionality, such as qutrits.\n",
    "\n",
    "Now, let us look at the possible outcomes of this experiment. Note that the chance of performing a particular measurement $M_k$ can be written as a _conditional_ probability, due to the fact the outcome distribution actually depends on the (unknown) state we are measuring in the first place. In other words, we can write something like\n",
    "\n",
    "$$\n",
    "\\mathrm{Prob.\\ of\\ measuring\\ }M_k\\mathrm{\\ given\\ }\\rho_i=\n",
    "\\mathrm{Prob.\\ that\\ }\\rho_i\\mathrm{\\ was\\ prepared\\ }\n",
    "\\times\n",
    "\\mathrm{\\ Prob.\\ that\\ }\\rho_i\\mathrm{\\ yields\\ }M_k\n",
    "$$\n",
    "or, \n",
    "$$\n",
    "q(k | i) = p_i \\mathrm{Tr\\ } (M_k \\rho_i)\n",
    "$$\n",
    "\n",
    "The probability of guessing _right_ occurs when $k = i$, that is, when the measured POVM $M_i$ correspods to the state $\\rho_i$ received by Bob. In other words:\n",
    "\n",
    "$$\n",
    "p_{\\mathrm{right}} = \\sum_i q(k = i| i) = q(k = 0|0) + q(k = 1 |1) = p_0 \\mathrm{Tr\\ } (M_0 \\rho_0) + p_1 \\mathrm{Tr\\ } (M_1 \\rho_1).\n",
    "$$\n",
    "\n",
    "Similarly, the chances of making the _incorrect_ guess is:\n",
    "\n",
    "$$\n",
    "p_{\\mathrm{wrong}} = \\sum_i q(k \\neq i| i) = q(k = 1|0) + q(k = 0 |1) = p_0 \\mathrm{Tr\\ } (M_1 \\rho_0) + p_1 \\mathrm{Tr\\ } (M_0 \\rho_1) = 1 - p_{\\mathrm{right}}.\n",
    "$$\n",
    "\n",
    "What is very nice is that, due to the semipositive structure of the POVMs, this problem can thus be written as a SDP if we decide to maximize $p_{\\mathrm{right}}$: \n",
    "\n",
    "$$\n",
    "\\begin{split}\n",
    "    & \\mathrm{Maximize \\quad}     & & \\sum_i  p_i \\mathrm{Tr\\ } ({\\color{orange} M_i}\\rho_i) =: p_{\\mathrm{right}}\\\\\n",
    "    & \\mathrm{subject \\ to \\quad} & & \\sum_i  \\mathrm{Tr\\ } {\\color{orange} M_i} = 1\\\\\n",
    "                                & & & {\\color{orange} M_i} \\geq 0 \\quad \\forall i.\n",
    "\\end{split}\n",
    "$$\n",
    "\n",
    "Here it is clear that the preparation probabilities $q_i$ and the corresponding states $\\rho_i$ are given. Our task is to find the optimal set of POVMs and the associated probability $p_{\\mathrm{right}}$."
   ]
  },
  {
   "cell_type": "markdown",
   "id": "1a497846-88c6-41a4-b389-e5b657aa1e8d",
   "metadata": {},
   "source": [
    "#### ⦿ Example 4 | Numerical example of QSD"
   ]
  },
  {
   "cell_type": "markdown",
   "id": "d98ebc8d-9ef6-43ff-90f2-8f332a1d243c",
   "metadata": {},
   "source": [
    "For a concrete numerical example, let us consider $p_0 = 0.4$ and $p_1 = 1 - p_0 = 0.6$, with states $\\rho_0 = |0\\rangle \\langle0|$ and $\\rho_1 = |+\\rangle \\langle+|$."
   ]
  },
  {
   "cell_type": "code",
   "execution_count": 422,
   "id": "dfec1817-b875-4efb-9afc-a255199d8caa",
   "metadata": {},
   "outputs": [
    {
     "name": "stdout",
     "output_type": "stream",
     "text": [
      "The POVM M_0 is:\n",
      " [[ 0.7773619  -0.41602796]\n",
      " [-0.41602796  0.22265795]]\n",
      "The probability p_right is:  0.8605555785854224\n"
     ]
    }
   ],
   "source": [
    "# INPUTS\n",
    "# Probabilities\n",
    "p_0 = 0.4\n",
    "p_1 = 1 - p_0\n",
    "\n",
    "# States. Might be necessary to use dtype='complex' here!\n",
    "rho_0 = np.array([[1, 0], [0, 0]])\n",
    "rho_1 = 0.5*np.array([[1, 1], [1, 1]], dtype='complex')\n",
    "\n",
    "# PROBLEM\n",
    "# Variables, 2 x 2 matrices\n",
    "M_0 = cp.Variable((2, 2))\n",
    "M_1 = cp.Variable((2, 2))\n",
    "\n",
    "# Positive and normalized\n",
    "constraints = [M_0 + M_1 == np.eye(2) # Normalization\n",
    "               , M_0 >> 0             # SD property for M_0\n",
    "               , M_1 >> 0]            # and M_1\n",
    "\n",
    "obj_function = p_0*cp.trace(rho_0 @ M_0) + p_1*cp.trace(rho_1 @ M_1)\n",
    "\n",
    "# Solution\n",
    "prob = cp.Problem(cp.Maximize(cp.real(obj_function)), constraints)\n",
    "\n",
    "# PRINTING\n",
    "prob.solve()\n",
    "print(\"The POVM M_0 is:\\n\", M_0.value)                # Shows a solution\n",
    "print(\"The probability p_right is: \", prob.value)     # And the corresponding minimum/maximum "
   ]
  },
  {
   "cell_type": "markdown",
   "id": "846375cc-422e-48fc-abc4-5c77ec209722",
   "metadata": {},
   "source": [
    "Thankfully we can compare the result above with a theoretical prediction. For the 2-state problem we can define the operator:\n",
    "\n",
    "$$\n",
    "X := p_0 \\rho_0 - p_1 \\rho_1,\n",
    "$$\n",
    "\n",
    "such that the optimal guessing probability is given by:\n",
    "\n",
    "$$\n",
    "\\mathrm{max\\ } p_{\\mathrm{right}} = \\frac{1}{2}(1 + ||X||_1).\n",
    "$$\n",
    "\n",
    "Here $||X||_1 = \\mathrm{Tr} (\\sqrt{X^\\dagger X})$ is the [nuclear norm](https://en.wikipedia.org/wiki/Matrix_norm#:~:text=The%20most%20familiar%20cases%20are%20p%20%3D%201%2C%202%2C%20%E2%88%9E.%20The%20case%20p%20%3D%202%20yields%20the%20Frobenius%20norm%2C%20introduced%20before.%20The%20case%20p%20%3D%C2%A0%E2%88%9E%20yields%20the%20spectral%20norm%2C%20which%20is%20the%20operator%20norm%20induced%20by%20the%20vector%202%2Dnorm%20(see%20above).%20Finally%2C%20p%20%3D%201%20yields%20the%20nuclear%20norm%20(also%20known%20as%20the%20trace%20norm%2C). This is known as the [Helstrom bound](https://arxiv.org/abs/1603.04774). The POVMs are given by:\n",
    "\n",
    "$$\n",
    "M_{0, 1} = \\underset{M_i}{\\mathrm{argmax\\ }} p_{\\mathrm{right}} = X_{\\pm},\n",
    "$$\n",
    "\n",
    "given the spectral decomposition of $X$ into negative and positive eigenvalues $\\lambda_-, \\lambda_+$ as $X = \\lambda_+ X_+ + \\lambda_- X_-$ That is, we can obtain the optimal POVMs just by constructing the projectors from the spectral decomposition of $X$. The theoretical predictions agree with the solution from our SDP:"
   ]
  },
  {
   "cell_type": "code",
   "execution_count": 423,
   "id": "2203ab67-1971-4d09-8040-d7d8bbfecd3d",
   "metadata": {
    "jupyter": {
     "source_hidden": true
    }
   },
   "outputs": [],
   "source": [
    "# Operator X\n",
    "X = p_0*rho_0 - p_1*rho_1\n",
    "\n",
    "# Helstrom bound\n",
    "p_theoretical = 0.5 + 0.5*np.linalg.norm(X, ord='nuc')\n",
    "\n",
    "# Projectors. Be careful, eigenvector are columns and not rows. Transpose is necessary\n",
    "eig_vecs = np.linalg.eig(X)[1].T\n",
    "M_theoretical=np.outer(eig_vecs[0], eig_vecs[0])"
   ]
  },
  {
   "cell_type": "code",
   "execution_count": 424,
   "id": "e9cbb4cd-bcae-4352-99c1-7f2d4ce3bc78",
   "metadata": {
    "jupyter": {
     "source_hidden": true
    }
   },
   "outputs": [
    {
     "name": "stdout",
     "output_type": "stream",
     "text": [
      "The value of p_guess from the theory is:  0.860555127546399\n",
      "with POVM:\n",
      " [[ 0.7773501 +0.j -0.41602515-0.j]\n",
      " [-0.41602515-0.j  0.2226499 +0.j]]\n"
     ]
    }
   ],
   "source": [
    "print(\"The value of p_guess from the theory is: \", p_theoretical)     \n",
    "print(\"with POVM:\\n\", M_theoretical)    "
   ]
  },
  {
   "cell_type": "markdown",
   "id": "907979d0-0695-432d-aeb2-5391ee817b37",
   "metadata": {},
   "source": [
    "#### Example 4.a | Plotting"
   ]
  },
  {
   "cell_type": "code",
   "execution_count": 425,
   "id": "e26df65f-6c8f-4cab-ba51-3e0bd5bf4d94",
   "metadata": {
    "jupyter": {
     "source_hidden": true
    }
   },
   "outputs": [],
   "source": [
    "# Pauli matrices\n",
    "X = np.array([[0,1],[1,0]])\n",
    "Y = np.array([[0,-1j],[1j,0]])\n",
    "Z = np.array([[1,0],[0,-1]])\n",
    "\n",
    "# Pauli matrix from Pauli vector\n",
    "def rho_pauli(rx, ry, rz):\n",
    "    return (np.eye(2) + rx*X + ry*Y + rz*Z)/2\n",
    "\n",
    "# Pauli vector from Pauli matrix\n",
    "def pauli_vector(rho):\n",
    "    return np.array([np.trace(rho@X), np.trace(rho@Y), np.trace(rho@Z)])"
   ]
  },
  {
   "cell_type": "markdown",
   "id": "f07fed61-5d4e-4c3a-b396-210729ad4966",
   "metadata": {},
   "source": [
    "We define a function which solves the problem above for an arbitrary (pure) state $\\rho_1 = |\\psi \\rangle \\langle \\psi |$, fixing all other parameters. This function returns $p_\\mathrm{guess}$ and $M_0$:"
   ]
  },
  {
   "cell_type": "code",
   "execution_count": 426,
   "id": "ef0d1c6b-49da-4f97-b4d4-5fb2a8adef46",
   "metadata": {
    "jupyter": {
     "source_hidden": true
    }
   },
   "outputs": [],
   "source": [
    "def opt_basis(theta):\n",
    "    \"\"\"Solves the state discrimination problem above for a given initial state\n",
    "    |Ψ> = cos(theta/2)|1> + sin(theta/2)|1>. rho_0 is fixed as |0><0|.\"\"\"\n",
    "\n",
    "    # Classical probabilities and state\n",
    "    p_0 = 0.4\n",
    "    p_1 = 1 - p_0\n",
    "    rho_0 = np.array([[1, 0], [0, 0]])\n",
    "\n",
    "    # Parametrizes an arbitrary state rho_1, while rho_0 is fixed as the ground state\n",
    "    phi = 0\n",
    "    psi = np.array([[np.cos(theta/2)]\n",
    "                   ,[np.exp(-1j*phi)*np.sin(theta/2)]])     # Parametrized wave ffunction |Ψ>\n",
    "    \n",
    "    rho_1 = psi@np.conj(psi).T                              # Density matrix |Ψ><Ψ|\n",
    "\n",
    "    # PROBLEM\n",
    "    # Variables\n",
    "    M_0 = cp.Variable((2, 2))\n",
    "    M_1 = cp.Variable((2, 2))\n",
    "    \n",
    "    # Positive and normalized\n",
    "    constraints = [M_0 + M_1 == np.eye(2), M_0 >> 0, M_1 >> 0]\n",
    "    obj_function = p_0*cp.trace(rho_0 @ M_0) + p_1*cp.trace(rho_1 @ M_1)\n",
    "    \n",
    "    # Solution\n",
    "    prob = cp.Problem(cp.Maximize(cp.real(obj_function)), constraints)\n",
    "    prob.solve()\n",
    "\n",
    "    return prob.value, pauli_vector(M_1.value)"
   ]
  },
  {
   "cell_type": "markdown",
   "id": "d2abd01f-b935-48e5-8a8c-12335ee0a172",
   "metadata": {},
   "source": [
    "We solve it for states in the interval $\\theta \\in (0, \\pi)$"
   ]
  },
  {
   "cell_type": "code",
   "execution_count": 427,
   "id": "ebfab2e3-256a-4399-bb90-8a26c4ff860d",
   "metadata": {},
   "outputs": [],
   "source": [
    "# Solves the problem for different initial states\n",
    "theta_lst = np.pi*np.linspace(0.01, .99, 15)\n",
    "sol = [opt_basis(theta) for theta in theta_lst]\n",
    "probs, states = list(zip(*sol))"
   ]
  },
  {
   "cell_type": "markdown",
   "id": "fde2aa9b-fa21-435e-a80b-a0a92eff8620",
   "metadata": {},
   "source": [
    "Plotting:\n",
    "\n",
    "- The position of the balls (and the **color**) represent the **state** $\\rho_1$\n",
    "- Their sizes/area represent the **probability**\n",
    "- The **arrows** represent the **optimal POVM** associated with the state of corresponding color"
   ]
  },
  {
   "cell_type": "code",
   "execution_count": 434,
   "id": "3702fa2a-610c-4712-a4bf-17de1c057162",
   "metadata": {
    "jupyter": {
     "source_hidden": true
    }
   },
   "outputs": [
    {
     "data": {
      "image/png": "[encoded data removed]",
      "text/plain": [
       "<Figure size 640x480 with 2 Axes>"
      ]
     },
     "metadata": {},
     "output_type": "display_data"
    }
   ],
   "source": [
    "fig, ax = plt.subplots(dpi=100)\n",
    "\n",
    "# Draws a circle for the bloch sphere\n",
    "cir = plt.Circle((0, 0), 1, color='gray', linestyle='dashed', fill=False)\n",
    "ax.add_patch(cir)\n",
    "\n",
    "# Axes\n",
    "plt.arrow(0, 0, 0, 1.1, width=0.01, color='gray', linestyle='solid')\n",
    "plt.arrow(0, 0, 1.1, 0, width=0.01, color='gray', linestyle='solid')\n",
    "plt.arrow(0, 0, 0, -1.1, width=0.01, color='gray', linestyle='solid')\n",
    "plt.arrow(0, 0, -1.1, 0, width=0.01, color='gray', linestyle='solid')\n",
    "\n",
    "# Bloch sphere axes label\n",
    "plt.text(-.25, 1.1, r\"$|0\\rangle$\", fontsize=12)\n",
    "plt.text(1.05, -.1, r\"$|+\\rangle$\", fontsize=12)\n",
    "plt.text(-.25, -1.15, r\"$|1\\rangle$\", fontsize=12)\n",
    "plt.text(-1.15, -.15, r\"$|-\\rangle$\", fontsize=12)\n",
    "\n",
    "# Text \n",
    "plt.text(-1.2, 1, r\"$\\mathrm{Balls: state\\ }$ $\\rho_1$\", fontsize=14)\n",
    "plt.text(-1.2, .75, r\"$\\mathrm{Arrows:\\ meas\\ }$ $M_1$\", fontsize=14)\n",
    "\n",
    "# PLOT\n",
    "# Coordinates in the bloch sphere\n",
    "x = [psi[0] for psi in states]\n",
    "z = [psi[2] for psi in states]\n",
    "x_state = np.cos(theta_lst-np.pi/2)\n",
    "z_state = np.sin(theta_lst+np.pi/2)\n",
    "\n",
    "# Scatter area proportional to probability\n",
    "prob_area = (6*np.array(probs))**3\n",
    "\n",
    "# Color proportional to theta\n",
    "cm =  matplotlib.colormaps.get_cmap('RdBu')\n",
    "\n",
    "# Plots the input states rho_1 in the bloch sphere. The color corresponds to the state and the area to the probability \n",
    "scatter = ax.scatter(x_state, z_state, s=prob_area, c=theta_lst/np.pi, cmap=cm, norm=matplotlib.colors.Normalize(vmin=np.min(theta_lst)/np.pi, vmax=np.max(theta_lst)/np.pi))\n",
    "\n",
    "# Plots the optimal measurement direction\n",
    "for i in range(0, len(theta_lst)):\n",
    "    plt.arrow(0, 0, 0.9*np.real(x[i]), 0.9*np.real(z[i]), width=0.008, color=cm(theta_lst[i]/np.pi))\n",
    "\n",
    "# Dot in origin\n",
    "dot = plt.Circle((0, 0), .03, color='gray',fill=True)\n",
    "ax.add_patch(dot)\n",
    "\n",
    "# Plot configuration\n",
    "ax.set_xlim(-1.3, 1.3)\n",
    "ax.set_ylim(-1.25, 1.25)\n",
    "ax.set_xlabel(r\"$\\langle \\sigma_x  \\rangle$\", fontsize=24)\n",
    "ax.set_ylabel(r\"$\\langle \\sigma_z  \\rangle$\",fontsize=24)\n",
    "\n",
    "# LEGENDS\n",
    "# See https://matplotlib.org/stable/gallery/lines_bars_and_markers/scatter_with_legend.html\n",
    "# Produces a legend with a cross-section of sizes from the scatter. Needs to invert the function for the area size.\n",
    "legend_points = 5\n",
    "kw = dict(prop=\"sizes\", num=legend_points, fmt=r\"${x:.2f}$\", func=lambda s: s**(1/3)/6)\n",
    "legend = ax.legend(*scatter.legend_elements(**kw), \n",
    "                    loc=\"lower left\", title=r\"$p_{\\mathrm{guess}}$\", fontsize=14)\n",
    "\n",
    "# See: https://stackoverflow.com/questions/25408393/getting-individual-colors-from-a-color-map-in-matplotlib\n",
    "# Colors the legend according to the color map, based on the value of theta\n",
    "color_from_map = theta_lst[::len(theta_lst)//legend_points]/np.pi\n",
    "for _ in range(legend_points): \n",
    "    legend.legend_handles[_].set_color(cm(color_from_map[_]))\n",
    "\n",
    "# Adds a color bar and plots\n",
    "plt.colorbar(scatter, label=r'$\\mathrm{Initial\\ state\\ }$ $\\theta/\\pi$', orientation='vertical')\n",
    "plt.show()"
   ]
  },
  {
   "cell_type": "markdown",
   "id": "41a90ec8-bee5-480b-b11c-72ae938b579a",
   "metadata": {},
   "source": [
    "### Entanglement negativity"
   ]
  },
  {
   "cell_type": "markdown",
   "id": "3ba04ee0-7ff1-4a02-80ea-1a6d2930846d",
   "metadata": {},
   "source": [
    "#### ⦿ Example 5 | Entaglement computation with SDP"
   ]
  },
  {
   "cell_type": "markdown",
   "id": "19999e17-4495-4f21-ba15-bf371d89846a",
   "metadata": {},
   "source": [
    "\n",
    "<div class=\"highlight_blue\">\n",
    "<div class=\"title_box\">\n",
    "    <div class=\"title\">\n",
    "        ☞ The Negativity SDP\n",
    "    </div>\n",
    "</div>\n",
    "<div class=\"content\">\n",
    "One can show [1] (c.f. Chap 5), that the computation of the [Negativity](https://en.wikipedia.org/wiki/Negativity_(quantum_mechanics)) of a bipartite quantum state $\\rho_{AB}$, defined as,\n",
    "\n",
    "$$\n",
    "\\mathcal{N}(\\rho) \\equiv \\frac{||\\rho^{\\Gamma_B}||_1-1}{2}, \n",
    "$$\n",
    "with $\\rho_{AB}^{\\Gamma_B} := \\sum_{ij} ({\\bf 1} \\otimes |j \\rangle \\langle i|) \\rho_{AB} ({\\bf 1} \\otimes |j \\rangle \\langle i |)$ being the partial transpose over the syste $B$, can be cast as a semidefinite problem of the following form:\n",
    "$$\n",
    "\\begin{split}\n",
    "   \\mathcal{N}(\\rho_{AB}) =\\quad & \\mathrm{Minimize \\quad}     & & \\mathrm{Tr\\ } ({\\color{orange} Y})\\\\\n",
    "                                 & \\mathrm{subject \\ to \\quad} & & {\\color{orange} Z} - {\\color{orange} Y} = \\rho_{AB}^{\\Gamma_B}\\\\\n",
    "                                                               & & & {\\color{orange} Y}, {\\color{orange} Z} \\geq 0.\n",
    "\\end{split}\n",
    "$$\n",
    "\n",
    "</div>\n",
    "</div>"
   ]
  },
  {
   "cell_type": "markdown",
   "id": "7d0fe0e1-2320-4505-af07-ab5a318cfab5",
   "metadata": {},
   "source": [
    "Check out also the [Peres–Horodecki criterion](https://en.wikipedia.org/wiki/Peres%E2%80%93Horodecki_criterion). In very rough terms, the reasoning behind this SDP is due to the fat that ${\\color{orange} Z}$ and ${\\color{orange} Y}$ are SDP operators themselves which, respectively, _group_ the positive and negative values of the state $\\rho_{AB}$. This means that by computing $\\mathrm{Tr\\ } ({\\color{orange} Y})$ we are taking the sum of all the negative eigenvalues of $\\rho_{AB}$ and measureting how \"negative\", or how \"far away\", it is from separability.\n",
    "\n",
    "Now, for a practical example, consider the Werner state, which is a convex mixture of Bell state with the maximally mixed state:\n",
    "\n",
    "$$\n",
    "\\rho_{AB} = \\lambda |\\Phi_+ \\rangle \\langle \\Phi_+ | + \\frac{1-\\lambda}{4}{\\bf 1}, \\quad |\\Phi_+ \\rangle := \\frac{ |00 \\rangle  +  |11 \\rangle }{\\sqrt{2}}.\n",
    "$$\n",
    "\n",
    "Here, $\\lambda$ is a free parameter beween $0$ and $1$. We shall solve the problem above for different values of $\\lambda$, finding out if/when the state above is entangled. It turns out that whenever $\\lambda > 1/3$, the state is entangled."
   ]
  },
  {
   "cell_type": "code",
   "execution_count": 467,
   "id": "46c4881a-8d6f-4cca-8a81-595391c10e2c",
   "metadata": {},
   "outputs": [],
   "source": [
    "# Symbolic parameters\n",
    "lamb = cp.Parameter(nonneg=True)\n",
    "\n",
    "# Defines the Werner state parametrized by the variable above\n",
    "phi_plus = qtp.bell_state(state='00')\n",
    "rho_AB = lamb*(phi_plus*phi_plus.dag()).data.toarray() + (1-lamb)/4*qtp.qeye([2, 2]).data.toarray()\n",
    "rho_AB_T = cp.partial_transpose(rho_AB\n",
    "                                , dims=[2, 2] # Dimension of each subsystem\n",
    "                                , axis=1)     # Takes the transpose over the subsystem B\n",
    "\n",
    "# PROBLEM\n",
    "# Variables\n",
    "n = 4\n",
    "Z, Y = cp.Variable((n, n)), cp.Variable((n, n))\n",
    "\n",
    "# Constraints and obj. function\n",
    "constraints = [Z - Y == rho_AB_T    # Partial transpose decomposition into neg. and pos. parts\n",
    "               , Z >> 0             # SD property for Z\n",
    "               , Y >> 0]            # and Y\n",
    "\n",
    "obj_function = cp.trace(Y)          # \"Measures\" entanglement\n",
    "\n",
    "# Problem definition\n",
    "prob = cp.Problem(cp.Minimize(cp.real(obj_function)), constraints)"
   ]
  },
  {
   "cell_type": "markdown",
   "id": "df378f7a-a2a2-4ef5-b383-2330eb915a34",
   "metadata": {},
   "source": [
    "This is actually related to the notion of [disciplined parametrized programming](https://www.cvxpy.org/tutorial/advanced/index.html#disciplined-parametrized-programming), a property for which the library can explicitly check:"
   ]
  },
  {
   "cell_type": "code",
   "execution_count": 468,
   "id": "1d448341-10c4-4511-bc95-3731c2f97a6f",
   "metadata": {},
   "outputs": [
    {
     "name": "stdout",
     "output_type": "stream",
     "text": [
      "Is DPP?  True\n"
     ]
    }
   ],
   "source": [
    "print(\"Is DPP? \", prob.is_dcp(dpp=True))"
   ]
  },
  {
   "cell_type": "markdown",
   "id": "442e011e-59c7-4918-b136-ded32a72941f",
   "metadata": {},
   "source": [
    "<div class=\"highlight_red\">\n",
    "<div class=\"title_box\">\n",
    "    <div class=\"title\">\n",
    "        ⚠ Note\n",
    "    </div>\n",
    "</div>\n",
    "\n",
    "<div class=\"content\">\n",
    "For that reason, it is a bit complicated to incorporate non-linear parametrizations into the problem and thouse should be avoided. One can work around this problem by expressing the quantities in the problem in a clever way, which is still <a href=\"https://www.cvxpy.org/tutorial/advanced/index.html#:~:text=Some%20expressions%20are%20DCP%2Dcompliant%20but%20not%20DPP%2Dcompliant.%20For%20example%2C%20DPP%20forbids%20taking%20the%20product%20of%20two%20parametrized%20expressions%3A\"> within the capabilities of the library </a>. That is why we did not use this strategy in the previous problem, since writing this parameter as $\\cos{\\theta}$ would mess things up. \n",
    "</div>\n",
    "</div>"
   ]
  },
  {
   "cell_type": "code",
   "execution_count": 469,
   "id": "8303f9df-c3a8-444a-a703-66656d503c47",
   "metadata": {
    "jupyter": {
     "source_hidden": true
    }
   },
   "outputs": [],
   "source": [
    "def negativity(rho, subsys):\n",
    "    \"\"\"\"Computes the negativity for a state rho given a [int] list of subsystems\n",
    "    See: https://en.wikipedia.org/wiki/Negativity_(quantum_mechanics)\"\"\"\n",
    "\n",
    "    # [Boolean array] of partitions to be partially transposed\n",
    "    transpose_q = [index in subsys for index in range(len(rho.dims))] \n",
    "\n",
    "    # Converts to an array of 0's and 1's. E.g, if N = 4 and subsys = [0, 3], we have transpose_q [1, 0, 0, 1]\n",
    "    transpose_q = np.multiply(transpose_q, 1)                          \n",
    "\n",
    "    # Applies the partial transpose. Note that this function receives an array like the above \n",
    "    # as an argument and not the subsystems themselves.\n",
    "    rho_pt = qtp.partial_transpose(rho, transpose_q, method=\"dense\")  \n",
    "\n",
    "    # Computes the negativity form the definition\n",
    "    return ((rho_pt.dag() * rho_pt).sqrtm().tr().real - 1)/2"
   ]
  },
  {
   "cell_type": "code",
   "execution_count": 470,
   "id": "b55376d4-11da-4304-85e5-c22a6dacad52",
   "metadata": {},
   "outputs": [],
   "source": [
    "# SOLVING THE PROBLEM\n",
    "lamb_lst = np.linspace(0, 1, 30)\n",
    "\n",
    "tr_lst = []            # Numerical solution to the SDP\n",
    "concurrence_lst = []   # Concurrence\n",
    "neg_analytical = []    # Theoretical prediction for the negativity\n",
    "\n",
    "# Solves the problem for different lambda, updating the parameter at each iteration\n",
    "for lamb.value in lamb_lst:\n",
    "    \n",
    "    # Resolves the the problem and stores it\n",
    "    prob.solve()\n",
    "    tr_lst.append(prob.value)\n",
    "\n",
    "    # Converts rho_AB, which is a cvxpy constant, to a qutip Qobj. We use this to compute the cocurrente and negativity\n",
    "    state = qtp.Qobj(rho_AB.value, [[2, 2], [2, 2]]) \n",
    "    concurrence_lst.append(qtp.concurrence(state))\n",
    "    neg_analytical.append(negativity(state, [1]))"
   ]
  },
  {
   "cell_type": "code",
   "execution_count": 475,
   "id": "6d316ffc-639d-434d-88d3-5a25be4a492a",
   "metadata": {
    "jupyter": {
     "source_hidden": true
    }
   },
   "outputs": [
    {
     "data": {
      "image/png": "[encoded data removed]",
      "text/plain": [
       "<Figure size 640x480 with 1 Axes>"
      ]
     },
     "metadata": {},
     "output_type": "display_data"
    }
   ],
   "source": [
    "fig, ax = plt.subplots(dpi=100)\n",
    "\n",
    "# Concurrence with axis filling\n",
    "x_axis=np.zeros(len(concurrence_lst))\n",
    "ax.fill_between(lamb_lst, concurrence_lst, where=concurrence_lst>=x_axis, interpolate=True, color='blue', alpha=0.1)\n",
    "ax.plot(lamb_lst, concurrence_lst, label=r\"$\\mathrm{Concurrence}$\", color=\"blue\")\n",
    "\n",
    "# Theoretical and numerical SDP solutions\n",
    "ax.plot(lamb_lst, neg_analytical, linestyle=\"dashed\", color=\"black\", label=r\"$\\mathrm{Negativity\\ } \\mathcal{N}$\")\n",
    "ax.plot(lamb_lst, tr_lst, linestyle=\"None\", marker=\"*\", markersize=10, label=r\"$\\mathrm{SDP\\ Solution}$\", color=\"red\")\n",
    "\n",
    "# Title\n",
    "ax.set_title(r\"$\\mathrm{Entanglement}$\", fontsize=24)\n",
    "ax.set_xlabel(r\"$\\lambda$\",fontsize=24)\n",
    "ax.legend(loc=\"upper left\", fontsize=14)\n",
    "\n",
    "# Text\n",
    "plt.text(.7, .1, r\"$\\mathrm{Entangled}$\", fontsize=18, color=\"blue\")\n",
    "plt.text(.1, .1, r\"$\\mathrm{Separable}$\", fontsize=18)\n",
    "\n",
    "# Removes the plot range padding\n",
    "ax.margins(x=0, y=0)\n",
    "plt.tight_layout()\n",
    "plt.show()"
   ]
  },
  {
   "cell_type": "markdown",
   "id": "9976f819-9232-48ac-acee-7d9d1bf8ffb7",
   "metadata": {},
   "source": [
    "We could also recast this problem into its **dual**, which is of the form [1]:\n",
    "\n",
    "$$\n",
    "\\begin{split}\n",
    "   \\mathcal{N}(\\rho_{AB}) =\\quad & \\mathrm{Maximize \\quad}     & & -\\mathrm{Tr\\ } (\\rho_{AB} {\\color{red} X}^{\\Gamma_B})\\\\\n",
    "                                 & \\mathrm{subject \\ to \\quad} & & {\\bf 1} \\geq  {\\color{red} X}\\\\\n",
    "                                                               & & &  {\\color{red} X} \\geq 0.\n",
    "\\end{split}\n",
    "$$\n",
    "\n",
    "This alternative form, as is often the case with many SDP problems, is much more than just a mathematical gimmick and it actually has a physical interpretation as well. The operator ${\\color{red} X}^{\\Gamma_B}$ is actually an _entanglement witness_ here, because it provides a signature for entanglement. The solution of this SDP provides thus an \"optimal witness\"."
   ]
  },
  {
   "cell_type": "code",
   "execution_count": 548,
   "id": "6afa158d-5875-456c-8745-cf075b97afd5",
   "metadata": {},
   "outputs": [],
   "source": [
    "# DUAL PROBLEM\n",
    "# Variables\n",
    "X = cp.Variable((n, n))\n",
    "X_T = cp.partial_transpose(X, dims=[2, 2], axis=1)\n",
    "\n",
    "# Constraints and obj. function\n",
    "constraints_dual = [np.eye(4) - X >> 0, X >> 0]   \n",
    "obj_function_dual = -cp.trace(X_T @ rho_AB)\n",
    "\n",
    "# Problem definition\n",
    "prob_dual = cp.Problem(cp.Maximize(cp.real(obj_function_dual)), constraints_dual)"
   ]
  },
  {
   "cell_type": "markdown",
   "id": "4f6563af-014b-417e-a4fa-1a0a8380bd66",
   "metadata": {},
   "source": [
    "Taking an arbitrary value of $\\lambda$, we can compute, in practice, the operator which acts as an entanglement witness and the corresponding negativity:"
   ]
  },
  {
   "cell_type": "code",
   "execution_count": 551,
   "id": "fa96092a-e6b6-43b5-abd8-ebfe30076c2d",
   "metadata": {},
   "outputs": [
    {
     "name": "stdout",
     "output_type": "stream",
     "text": [
      "The operator witness is:\n",
      " [[-0.00 0.00 0.00 0.00]\n",
      " [0.00 0.50 -0.50 0.00]\n",
      " [0.00 -0.50 0.50 0.00]\n",
      " [0.00 0.00 0.00 -0.00]]\n",
      "The corresponding negativity is N(p_AB) = 0.40\n"
     ]
    }
   ],
   "source": [
    "lamb.value = .87\n",
    "prob_dual.solve()\n",
    "print(\"The operator witness is:\\n\", X.value)\n",
    "print(\"The corresponding negativity is N(p_AB) = %0.2f\" % prob_dual.value)"
   ]
  },
  {
   "cell_type": "markdown",
   "id": "5e2ab7ee-13d5-4fe8-a140-632e61c1f169",
   "metadata": {},
   "source": [
    "It turns out that the witness here/the solution ${\\color{red} \\tilde{X}}$ is just the projector ${\\color{red} \\tilde{X}} =  |\\Psi_- \\rangle \\langle \\Psi_- |$ onto the bell state $|\\Psi_- \\rangle := \\frac{ |01 \\rangle  -  |10 \\rangle }{\\sqrt{2}}$. Explicit computation shows that the negativity is thus\n",
    "\n",
    "$$\n",
    "\\mathcal{N}(\\rho_{AB})=\n",
    "-\\mathrm{Tr\\ } (\\rho_{AB} {\\color{red} \\tilde{X}}^{\\Gamma_B})=\n",
    "\\frac{1 - 3\\lambda}{4},\n",
    "$$\n",
    "\n",
    "which is negative and signals entaglement when $\\lambda > 1/3$, as we had found. "
   ]
  },
  {
   "cell_type": "markdown",
   "id": "180fb272-477c-4c1e-9937-079b75a28ece",
   "metadata": {},
   "source": [
    "<div class=\"highlight_green\">\n",
    "<div class=\"title_box\">\n",
    "    <div class=\"title\">\n",
    "        ❐ Remarks\n",
    "    </div>\n",
    "</div>\n",
    "\n",
    "\n",
    "<div class=\"content\">\n",
    "<ul>\n",
    "<li>The positive-partial-transpose (PPT) criterion allowed us to introduce the notion of entanglement negativity, which can be cast into a very simple SPD</li>\n",
    "<li>A useful aspect is that its dual also provides us with an entaglement witness which, most importantly, allows the experimenter to detect entanglement <b>without full state tomography</b>. One just need to be able to measure the entanglement witness ${\\color{red} \\tilde{X}}$ obtained by numerically solving the SPD.</li>\n",
    "</ul>\n",
    "</div>\n",
    "</div>"
   ]
  },
  {
   "cell_type": "markdown",
   "id": "3fb3cee2-61cd-4190-bc68-b53dae04bcee",
   "metadata": {},
   "source": [
    "## References"
   ]
  },
  {
   "cell_type": "markdown",
   "id": "1d35865a-6ea6-4afe-bf1d-df4d2335c752",
   "metadata": {},
   "source": [
    "<div class=\"highlight_purple\">\n",
    "<div class=\"title_box\">\n",
    "    <div class=\"title\">\n",
    "        🕮 References\n",
    "    </div>\n",
    "</div>\n",
    "\n",
    "<div class=\"content\">\n",
    "<ul>\n",
    "    <li>[1] P. Skrzypczyk and D. Cavalcanti, <a href=\"https://iopscience.iop.org/book/mono/978-0-7503-3343-6.pdf\">Semidefinite Programming in Quantum Information Science</a> (IOP Publishing, 2023).</li>\n",
    "        <ul>See <a href=\"https://arxiv.org/abs/2306.11637\">Chapter 3 on arXiv</a></ul>\n",
    "    <li>[2] C. de Gois, <a href=\"https://cgois.github.io/posts/sdps_in_quantum_info/\">Semidefinite Programming in Quantum Information.<a></li>\n",
    "    <li>[3] A. Agrawal, R. Verschueren, S. Diamond, and S. Boyd, <a href=\"https://www.tandfonline.com/doi/full/10.1080/23307706.2017.1397554\">A Rewriting System for Convex Optimization Problems</a>, Journal of Control and Decision 5, 42 (2018).</li>\n",
    "    <li>[4] <a href=\"https://www.cvxpy.org/examples/basic/sdp.html\">Semidefinite Program</a> — CVXPY 1.4 Documentation</li>\n",
    "    <li>[5] G. Müller-Rigat, A. K. Srivastava, S. Kurdziałek, G. Rajchel-Mieldzioć, M. Lewenstein, and I. Frérot, <a href=\"https://quantum-journal.org/papers/q-2023-10-24-1152/\"> Certifying the Quantum Fisher Information from a given Set of Mean Values: A Semidefinite Programming Approach</a>, Quantum 7, 1152 (2023).</li>\n",
    "    <li>[6] <a href=\"https://en.wikipedia.org/w/index.php?title=Semidefinite_programming&oldid=1193026743\">Semidefinite Programming</a>, in Wikipedia (2024).</li>\n",
    "    <li>[7] Home - <a href=\"https://sites.google.com/site/jamiesikora/teaching/semidefinite-programming-quantum-information\">Semidefinite Programming & Quantum Information</a> (Winter 2015). </li>\n",
    "    <li>[8] J. Bae and L.-C. Kwek, <a href=\"https://iopscience.iop.org/article/10.1088/1751-8113/48/8/083001\">Quantum State Discrimination and Its Applications</a> , J. Phys. A: Math. Theor. 48, 083001 (2015).</li>\n",
    "    <li>[9] S. M. Barnett and S. Croke, <a href=\"https://opg.optica.org/aop/abstract.cfm?uri=aop-1-2-238\">Quantum State Discrimination</a>, Adv. Opt. Photon. 1, 238 (2009).</li>\n",
    "    <li>[10] V. Siddhu and S. Tayur, <a href=\"http://pubsonline.informs.org/doi/10.1287/educ.2022.0243\">Five Starter Pieces: Quantum Information Science via Semidefinite Programs</a>, in Tutorials in Operations Research: Emerging and Impactful Topics in Operations, edited by M. Chou, H. Gibson, B. Staats, D. Shier, and H. J. Greenberg (INFORMS, 2022), pp. 59–92.</li>\n",
    "    <li>[11] A. Tavakoli, A. Pozas-Kerstjens, P. Brown, and M. Araújo, <a href=\"https://arxiv.org/abs/2307.02551\">Semidefinite Programming Relaxations for Quantum Correlations</a>, arXiv:2307.02551.</li>\n",
    "    <li>[12] Robert M. Freund, <a href=\"https://ocw.mit.edu/courses/15-084j-nonlinear-programming-spring-2004/a632b565602fd2eb3be574c537eea095_lec23_semidef_opt.pdf\">Introduction to Semidefinite Programming (SDP) </a> MIT (2004)</li>\n",
    "    <li>[13] Laurent El Ghaoui , <a href=\"https://people.eecs.berkeley.edu/~wainwrig/ee227a/SDP_Duality.pdf\">Lecture 13: SDP Duality</a>, EE 227A: Convex Optimization and Applications (2008)</li>\n",
    "    <li>[14] Rafael Oliveira, <a href=\"https://cs.uwaterloo.ca/~r5olivei/courses/2020-fall-cs466/lecture16-SDP-post.pdf\">Lecture 16: Semidefinite Programming and Duality Theorems</a>, Univeristy of Waterloo (2020)</li>\n",
    "    <li>All emojis designed by OpenMoji – the open-source emoji and icon project. License: CC BY-SA 4.0\n",
    "</li> \n",
    "</ul>\n",
    "</div>    \n",
    "</div>"
   ]
  }
 ],
 "metadata": {
  "kernelspec": {
   "display_name": "sdp_env_kernel",
   "language": "python",
   "name": "sdp_env_kernel"
  },
  "language_info": {
   "codemirror_mode": {
    "name": "ipython",
    "version": 3
   },
   "file_extension": ".py",
   "mimetype": "text/x-python",
   "name": "python",
   "nbconvert_exporter": "python",
   "pygments_lexer": "ipython3",
   "version": "3.10.13"
  },
  "scenes_data": {
   "active_scene": "Default Scene",
   "init_scene": "",
   "scenes": [
    "Default Scene"
   ]
  }
 },
 "nbformat": 4,
 "nbformat_minor": 5
}
